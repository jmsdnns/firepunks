{
 "cells": [
  {
   "cell_type": "code",
   "execution_count": 11,
   "metadata": {},
   "outputs": [],
   "source": [
    "import json\n",
    "\n",
    "import torch\n",
    "from torch import nn\n",
    "from torch.utils.data import Dataset\n",
    "\n",
    "import numpy as np\n",
    "import pandas as pd\n",
    "import matplotlib.image as mpimg\n",
    "\n",
    "# import loader"
   ]
  },
  {
   "cell_type": "code",
   "execution_count": 12,
   "metadata": {},
   "outputs": [],
   "source": [
    "device = torch.device(\"cuda\" if torch.cuda.is_available() else \"cpu\")\n",
    "device = \"cpu\"\n",
    "batch_size = 32\n",
    "TRAIN_LABELS = 'data/train.json'\n",
    "IMG_DIR = 'data/images'"
   ]
  },
  {
   "cell_type": "code",
   "execution_count": 13,
   "metadata": {},
   "outputs": [],
   "source": [
    "### copy of loader.py\n",
    "\n",
    "TRAIN_LABELS = 'data/train.json'\n",
    "TEST_LABELS = 'data/test.json'\n",
    "IMG_DIR = 'data/images'\n",
    "\n",
    "\n",
    "def load_image(id, img_dir=IMG_DIR):\n",
    "    return mpimg.imread(f'{img_dir}/punk{\"%04d\" % id}.png')\n",
    "\n",
    "\n",
    "def write_image(img_data, filepath):\n",
    "    return mpimg.imsave(filepath, img_data)\n",
    "\n",
    "\n",
    "def make_punks_df(labels_file):\n",
    "    with open(labels_file) as f:\n",
    "        punks = json.loads(f.read())\n",
    "    df = pd.DataFrame.from_dict(punks, orient='index')\n",
    "    df['img'] = df.apply(lambda row: [load_image(int(row.name))], axis=1)\n",
    "    return df\n",
    "\n",
    "\n",
    "def any_to_one(i):\n",
    "    x = True\n",
    "    if i['any']:\n",
    "        x = False\n",
    "    return int(x)\n",
    "\n",
    "\n",
    "class PunksDataset(Dataset):\n",
    "    def __init__(self, filter, img_dir=IMG_DIR, train=False):\n",
    "        self.filter = filter\n",
    "        self.img_dir = img_dir\n",
    "\n",
    "        self.labels_path = TRAIN_LABELS if train else TEST_LABELS\n",
    "        punks_df = make_punks_df(self.labels_path)\n",
    "        self.X = np.array([row[0] for row in punks_df['img'].to_numpy()])\n",
    "        self.Y = punks_df[filter].to_numpy()\n",
    "        # punks_df['any'] = punks_df[filter].apply(np.any, axis=1)\n",
    "        # punks_df['none'] = punks_df.apply(lambda x: any_to_one(x), axis=1)\n",
    "        # self.Y = punks_df[filter + ['none']].to_numpy()\n",
    "\n",
    "    def __len__(self):\n",
    "        return len(self.Y)\n",
    "\n",
    "    def __getitem__(self, idx):\n",
    "        return self.X[idx], self.Y[idx]\n",
    "        # return gimme_one(self.punks_df, self.filter, idx)\n"
   ]
  },
  {
   "cell_type": "code",
   "execution_count": 14,
   "metadata": {},
   "outputs": [],
   "source": [
    "punks_df = make_punks_df(TRAIN_LABELS)\n",
    "\n",
    "filter = ['wildHair', 'cigarette']\n",
    "# filter = ['male', 'female', 'cigarette']\n",
    "\n",
    "labels = np.array(punks_df[filter])\n",
    "data = np.array([load_image(row) for row in range(len(labels))])"
   ]
  },
  {
   "cell_type": "code",
   "execution_count": 15,
   "metadata": {},
   "outputs": [
    {
     "name": "stdout",
     "output_type": "stream",
     "text": [
      "(24, 24, 4)\n",
      "filter: [1 1]\n"
     ]
    }
   ],
   "source": [
    "train_dataset = PunksDataset(filter, train=True)\n",
    "# train_dataset = PunksDataset(filter, train=False)\n",
    "\n",
    "\n",
    "punk, labels = train_dataset[42]\n",
    "print(punk.shape)\n",
    "print(\"filter:\", labels)\n",
    "# loader.write_image(punk2, \"42.jpg\")"
   ]
  },
  {
   "cell_type": "code",
   "execution_count": 16,
   "metadata": {},
   "outputs": [
    {
     "name": "stdout",
     "output_type": "stream",
     "text": [
      "<class 'torch.Tensor'>\n",
      "<class 'torch.Tensor'>\n",
      "<class 'torch.Tensor'>\n",
      "<class 'torch.Tensor'>\n",
      "torch.Size([32, 24, 24, 4])\n",
      "torch.Size([24, 24, 4])\n",
      "filter: [0 0]\n"
     ]
    }
   ],
   "source": [
    "train_loader = torch.utils.data.DataLoader(\n",
    "    dataset=train_dataset, batch_size=batch_size, shuffle=False\n",
    ")\n",
    "\n",
    "punk_batch, labels_batch = next(iter(train_loader))\n",
    "print(type(punk_batch))\n",
    "print(type(punk_batch[0]))\n",
    "print(type(punk_batch[0][0]))\n",
    "print(type(punk_batch[0][0][0]))\n",
    "# print(type(punk_batch[0][0][0][0]))\n",
    "print(punk_batch.shape)\n",
    "print(punk_batch[0].shape)\n",
    "print(\"filter:\", labels_batch[0].numpy())\n",
    "\n",
    "write_image(punk_batch[0].numpy(), \"0.jpg\")"
   ]
  },
  {
   "cell_type": "code",
   "execution_count": 23,
   "metadata": {},
   "outputs": [
    {
     "data": {
      "text/plain": [
       "Sequential(\n",
       "  (0): Flatten(start_dim=1, end_dim=-1)\n",
       "  (1): Linear(in_features=2304, out_features=200, bias=True)\n",
       "  (2): ReLU()\n",
       "  (3): Linear(in_features=200, out_features=150, bias=True)\n",
       "  (4): ReLU()\n",
       "  (5): Linear(in_features=150, out_features=2, bias=True)\n",
       "  (6): ReLU()\n",
       ")"
      ]
     },
     "execution_count": 23,
     "metadata": {},
     "output_type": "execute_result"
    }
   ],
   "source": [
    "model = nn.Sequential(\n",
    "    nn.Flatten(),\n",
    "    nn.Linear(24*24*4, 200),\n",
    "    nn.ReLU(),\n",
    "    nn.Linear(200, 150),\n",
    "    nn.ReLU(),\n",
    "    nn.Linear(150, len(filter)),\n",
    "    nn.ReLU(),\n",
    "    # nn.Softmax(dim=1)\n",
    ")\n",
    "\n",
    "optimizer = torch.optim.Adam(model.parameters(), lr=0.0001)\n",
    "criterion = nn.CrossEntropyLoss()\n",
    "# criterion = nn.NLLLoss()\n",
    "\n",
    "model.to(device)\n"
   ]
  },
  {
   "cell_type": "code",
   "execution_count": 24,
   "metadata": {},
   "outputs": [
    {
     "name": "stdout",
     "output_type": "stream",
     "text": [
      "Epoch[1/10], loss: 0.011686\n",
      "Epoch[2/10], loss: 0.001327\n",
      "Epoch[3/10], loss: 0.000614\n",
      "Epoch[4/10], loss: 0.001264\n",
      "Epoch[5/10], loss: 0.000383\n",
      "Epoch[6/10], loss: 0.000279\n",
      "Epoch[7/10], loss: 0.000521\n",
      "Epoch[8/10], loss: 0.000249\n",
      "Epoch[9/10], loss: 0.000558\n",
      "Epoch[10/10], loss: 0.000250\n"
     ]
    }
   ],
   "source": [
    "num_epoch = 10\n",
    "running_loss = 0\n",
    "\n",
    "\n",
    "for epoch in range(num_epoch):\n",
    "    for inputs, labels in train_loader:\n",
    "        inputs, labels = inputs.to(device), labels.to(device)\n",
    "        optimizer.zero_grad()\n",
    "        outputs = model(inputs)\n",
    "        loss = criterion(outputs, labels.type(torch.float64))\n",
    "        loss.backward()\n",
    "        optimizer.step()\n",
    "        running_loss += loss.item()\n",
    "\n",
    "    print('Epoch[{}/{}], loss: {:.6f}'\n",
    "        .format(epoch + 1, num_epoch, loss.data.item()))"
   ]
  },
  {
   "cell_type": "code",
   "execution_count": 19,
   "metadata": {},
   "outputs": [],
   "source": [
    "# # test_dataset = loader.PunksDataset(filter, train=True)\n",
    "# test_dataset = loader.PunksDataset(filter, train=True)\n",
    "\n",
    "# test_loader = torch.utils.data.DataLoader(\n",
    "#     dataset=test_dataset, batch_size=batch_size, shuffle=False\n",
    "# )\n",
    "\n",
    "# img, label = next(iter(test_loader))\n",
    "# loader.write_image(img[0].numpy(), 'test.jpg')"
   ]
  },
  {
   "cell_type": "code",
   "execution_count": 20,
   "metadata": {},
   "outputs": [],
   "source": [
    "# outputs = model(img)\n",
    "# print(outputs)\n",
    "# vals = outputs.data.cpu().numpy().argmax()\n",
    "# vals"
   ]
  }
 ],
 "metadata": {
  "kernelspec": {
   "display_name": "Python 3 (ipykernel)",
   "language": "python",
   "name": "python3"
  },
  "language_info": {
   "codemirror_mode": {
    "name": "ipython",
    "version": 3
   },
   "file_extension": ".py",
   "mimetype": "text/x-python",
   "name": "python",
   "nbconvert_exporter": "python",
   "pygments_lexer": "ipython3",
   "version": "3.11.3"
  }
 },
 "nbformat": 4,
 "nbformat_minor": 2
}
