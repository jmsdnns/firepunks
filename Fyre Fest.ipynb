{
 "cells": [
  {
   "cell_type": "code",
   "execution_count": 1,
   "metadata": {},
   "outputs": [],
   "source": [
    "import json\n",
    "\n",
    "import torch\n",
    "from torch import nn\n",
    "from torch.nn import functional as F\n",
    "from torch.utils.data import Dataset\n",
    "\n",
    "import numpy as np\n",
    "import pandas as pd\n",
    "import matplotlib.pyplot as plt\n",
    "import matplotlib.image as mpimg\n",
    "\n",
    "import loader as L"
   ]
  },
  {
   "cell_type": "code",
   "execution_count": 2,
   "metadata": {},
   "outputs": [],
   "source": [
    "device = torch.device(\"cuda\" if torch.cuda.is_available() else \"cpu\")\n",
    "device = \"cpu\"\n",
    "batch_size = 32"
   ]
  },
  {
   "cell_type": "code",
   "execution_count": 3,
   "metadata": {},
   "outputs": [],
   "source": [
    "filter = ['male', 'female']\n",
    "# filter = ['male', 'female', 'cigarette']\n",
    "\n",
    "train_dataset = L.PunksDataset(filter, train=True)\n",
    "train_loader = torch.utils.data.DataLoader(\n",
    "    dataset=train_dataset, batch_size=batch_size, shuffle=False\n",
    ")\n",
    "\n",
    "test_dataset = L.PunksDataset(filter, train=False)\n",
    "test_loader = torch.utils.data.DataLoader(\n",
    "    dataset=test_dataset, batch_size=batch_size, shuffle=False\n",
    ")"
   ]
  },
  {
   "cell_type": "code",
   "execution_count": 4,
   "metadata": {},
   "outputs": [
    {
     "name": "stdout",
     "output_type": "stream",
     "text": [
      "(24, 24, 4)\n",
      "[0 1]\n",
      "male: 0\n",
      "female: 1\n",
      "<class 'torch.Tensor'>\n",
      "<class 'torch.Tensor'>\n",
      "<class 'torch.Tensor'>\n",
      "<class 'torch.Tensor'>\n",
      "torch.Size([32, 24, 24, 4])\n",
      "torch.Size([24, 24, 4])\n",
      "filter: [0 1]\n"
     ]
    }
   ],
   "source": [
    "# Explore Dataset\n",
    "punk, labels = train_dataset[42]\n",
    "print(punk.shape)\n",
    "print(labels)\n",
    "for f,l in zip(filter, labels):\n",
    "    print(f\"{f}: {l}\")\n",
    "L.write_image(punk, \"output/42.jpg\")\n",
    "\n",
    "\n",
    "# Explore Loader\n",
    "punk_batch, labels_batch = next(iter(train_loader))\n",
    "print(type(punk_batch))\n",
    "print(type(punk_batch[0]))\n",
    "print(type(punk_batch[0][0]))\n",
    "print(type(punk_batch[0][0][0]))\n",
    "# print(type(punk_batch[0][0][0][0]))\n",
    "print(punk_batch.shape)\n",
    "print(punk_batch[0].shape)\n",
    "print(\"filter:\", labels_batch[0].numpy())\n",
    "\n",
    "\n",
    "# Write new image with loaded data\n",
    "L.write_image(punk_batch[0].numpy(), \"output/0.jpg\")"
   ]
  },
  {
   "cell_type": "code",
   "execution_count": 5,
   "metadata": {},
   "outputs": [
    {
     "data": {
      "text/plain": [
       "Sequential(\n",
       "  (0): Flatten(start_dim=1, end_dim=-1)\n",
       "  (1): Linear(in_features=2304, out_features=200, bias=True)\n",
       "  (2): ReLU()\n",
       "  (3): Linear(in_features=200, out_features=150, bias=True)\n",
       "  (4): ReLU()\n",
       "  (5): Linear(in_features=150, out_features=2, bias=True)\n",
       "  (6): ReLU()\n",
       ")"
      ]
     },
     "execution_count": 5,
     "metadata": {},
     "output_type": "execute_result"
    }
   ],
   "source": [
    "model = nn.Sequential(\n",
    "    nn.Flatten(),\n",
    "    nn.Linear(24*24*4, 200),\n",
    "    nn.ReLU(),\n",
    "    nn.Linear(200, 150),\n",
    "    nn.ReLU(),\n",
    "    nn.Linear(150, len(filter)),\n",
    "    nn.ReLU()\n",
    ")\n",
    "\n",
    "optimizer = torch.optim.Adam(model.parameters(), lr=0.0001)\n",
    "criterion = nn.CrossEntropyLoss()\n",
    "\n",
    "model.to(device)\n"
   ]
  },
  {
   "cell_type": "code",
   "execution_count": 6,
   "metadata": {},
   "outputs": [
    {
     "name": "stdout",
     "output_type": "stream",
     "text": [
      "====> Epoch[1/10], loss: 0.003057\n",
      "====> Test[1/10],  loss: 0.000096\n",
      "====> Epoch[2/10], loss: 0.000463\n",
      "====> Test[2/10],  loss: 0.000015\n",
      "====> Epoch[3/10], loss: 0.000155\n",
      "====> Test[3/10],  loss: 0.000005\n",
      "====> Epoch[4/10], loss: 0.000074\n",
      "====> Test[4/10],  loss: 0.000002\n",
      "====> Epoch[5/10], loss: 0.000042\n",
      "====> Test[5/10],  loss: 0.000001\n",
      "====> Epoch[6/10], loss: 0.000025\n",
      "====> Test[6/10],  loss: 0.000001\n",
      "====> Epoch[7/10], loss: 0.000016\n",
      "====> Test[7/10],  loss: 0.000001\n",
      "====> Epoch[8/10], loss: 0.000010\n",
      "====> Test[8/10],  loss: 0.000000\n",
      "====> Epoch[9/10], loss: 0.000007\n",
      "====> Test[9/10],  loss: 0.000000\n",
      "====> Epoch[10/10], loss: 0.000005\n",
      "====> Test[10/10],  loss: 0.000000\n"
     ]
    }
   ],
   "source": [
    "num_epoch = 10\n",
    "training_loss = 0\n",
    "test_loss = 0\n",
    "\n",
    "\n",
    "for epoch in range(num_epoch):\n",
    "    for inputs, labels in train_loader:\n",
    "        inputs, labels = inputs.to(device), labels.to(device)\n",
    "        optimizer.zero_grad()\n",
    "        outputs = model(inputs)\n",
    "        loss = criterion(outputs, labels.type(torch.float64))\n",
    "        loss.backward()\n",
    "        optimizer.step()\n",
    "        training_loss += loss.item()\n",
    "\n",
    "    print('====> Epoch[{}/{}], loss: {:.6f}'.format(\n",
    "        epoch + 1, num_epoch, loss.data.item()\n",
    "    ))\n",
    "\n",
    "    with torch.no_grad():\n",
    "        for i, (data, _) in enumerate(test_loader):\n",
    "            inputs, labels = inputs.to(device), labels.to(device)\n",
    "            outputs = model(inputs)\n",
    "            test_loss += criterion(outputs, labels.type(torch.float64))\n",
    "\n",
    "        test_loss /= len(test_loader.dataset)\n",
    "        print('====> Test[{}/{}],  loss: {:.6f}'.format(\n",
    "            epoch + 1, num_epoch, test_loss.data.item()\n",
    "        ))\n"
   ]
  },
  {
   "cell_type": "code",
   "execution_count": 13,
   "metadata": {},
   "outputs": [
    {
     "data": {
      "image/png": "[encoded data removed]",
      "text/plain": [
       "<Figure size 1000x400 with 10 Axes>"
      ]
     },
     "metadata": {},
     "output_type": "display_data"
    }
   ],
   "source": [
    "import random\n",
    "\n",
    "\n",
    "fig, ax = plt.subplots(2, 5, figsize=(10, 4))\n",
    "\n",
    "for i in range(2):\n",
    "    for j in range(5):\n",
    "        idx = random.randint(0, len(test_dataset)-1)\n",
    "        if i == 1 and j == 4: idx = 42\n",
    "        img, label = test_dataset[idx]\n",
    "        img_tensor = torch.Tensor([img]).to(device)\n",
    "\n",
    "        ax[i,j].imshow(img)\n",
    "        ax[i,j].set_title(f'Punk #{idx}')\n",
    "        ax[i,j].axis('off')\n",
    "\n",
    "        result = model(img_tensor)\n",
    "        result = F.softmax(result, dim=-1)\n",
    "        pred = \"male\" if result[0][0] > result[0][1] else \"female\"\n",
    "        actual = \"male\" if label[0] > label[1] else \"female\"\n",
    "\n",
    "        ax[i,j].text(\n",
    "            0.5, -0.2, \n",
    "            f\"label: {actual}\", \n",
    "            fontsize=10, \n",
    "            ha='center',\n",
    "            transform=ax[i,j].transAxes\n",
    "        )\n",
    "        ax[i,j].text(\n",
    "            0.5, -0.4, \n",
    "            f\"pred: {pred}\", \n",
    "            fontsize=10, \n",
    "            ha='center',\n",
    "            transform=ax[i,j].transAxes\n",
    "        )\n",
    "\n",
    "\n",
    "plt.tight_layout()\n",
    "plt.show()\n"
   ]
  },
  {
   "cell_type": "code",
   "execution_count": null,
   "metadata": {},
   "outputs": [],
   "source": []
  }
 ],
 "metadata": {
  "kernelspec": {
   "display_name": "Python 3 (ipykernel)",
   "language": "python",
   "name": "python3"
  },
  "language_info": {
   "codemirror_mode": {
    "name": "ipython",
    "version": 3
   },
   "file_extension": ".py",
   "mimetype": "text/x-python",
   "name": "python",
   "nbconvert_exporter": "python",
   "pygments_lexer": "ipython3",
   "version": "3.11.3"
  }
 },
 "nbformat": 4,
 "nbformat_minor": 2
}
