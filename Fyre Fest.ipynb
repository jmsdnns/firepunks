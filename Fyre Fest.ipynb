{
 "cells": [
  {
   "cell_type": "code",
   "execution_count": 1,
   "metadata": {},
   "outputs": [],
   "source": [
    "import json\n",
    "\n",
    "import torch\n",
    "from torch import nn\n",
    "from torch.utils.data import Dataset\n",
    "\n",
    "import numpy as np\n",
    "import pandas as pd\n",
    "import matplotlib.image as mpimg\n",
    "\n",
    "# import loader"
   ]
  },
  {
   "cell_type": "code",
   "execution_count": 2,
   "metadata": {},
   "outputs": [],
   "source": [
    "device = torch.device(\"cuda\" if torch.cuda.is_available() else \"cpu\")\n",
    "device = \"cpu\"\n",
    "batch_size = 32\n",
    "TRAIN_LABELS = 'data/train.json'\n",
    "IMG_DIR = 'data/images'"
   ]
  },
  {
   "cell_type": "code",
   "execution_count": 3,
   "metadata": {},
   "outputs": [],
   "source": [
    "### copy of loader.py\n",
    "\n",
    "TRAIN_LABELS = 'data/train.json'\n",
    "TEST_LABELS = 'data/test.json'\n",
    "IMG_DIR = 'data/images'\n",
    "\n",
    "\n",
    "def load_image(id, img_dir=IMG_DIR):\n",
    "    return mpimg.imread(f'{img_dir}/punk{\"%04d\" % id}.png')\n",
    "\n",
    "\n",
    "def write_image(img_data, filepath):\n",
    "    return mpimg.imsave(filepath, img_data)\n",
    "\n",
    "\n",
    "def make_punks_df(labels_file):\n",
    "    with open(labels_file) as f:\n",
    "        punks = json.loads(f.read())\n",
    "    df = pd.DataFrame.from_dict(punks, orient='index')\n",
    "    df['img'] = df.apply(lambda row: [load_image(int(row.name))], axis=1)\n",
    "    return df\n",
    "\n",
    "\n",
    "def any_to_one(i):\n",
    "    x = True\n",
    "    if i['any']:\n",
    "        x = False\n",
    "    return int(x)\n",
    "\n",
    "\n",
    "class PunksDataset(Dataset):\n",
    "    def __init__(self, filter, img_dir=IMG_DIR, train=False):\n",
    "        self.filter = filter\n",
    "        self.img_dir = img_dir\n",
    "\n",
    "        self.labels_path = TRAIN_LABELS if train else TEST_LABELS\n",
    "        punks_df = make_punks_df(self.labels_path)\n",
    "        self.X = np.array([row[0] for row in punks_df['img'].to_numpy()])\n",
    "        self.Y = punks_df[filter].to_numpy()\n",
    "        # punks_df['any'] = punks_df[filter].apply(np.any, axis=1)\n",
    "        # punks_df['none'] = punks_df.apply(lambda x: any_to_one(x), axis=1)\n",
    "        # self.Y = punks_df[filter + ['none']].to_numpy()\n",
    "\n",
    "    def __len__(self):\n",
    "        return len(self.Y)\n",
    "\n",
    "    def __getitem__(self, idx):\n",
    "        return self.X[idx], self.Y[idx]\n",
    "        # return gimme_one(self.punks_df, self.filter, idx)\n"
   ]
  },
  {
   "cell_type": "code",
   "execution_count": 4,
   "metadata": {},
   "outputs": [],
   "source": [
    "punks_df = make_punks_df(TRAIN_LABELS)\n",
    "\n",
    "filter = ['wildHair', 'cigarette']\n",
    "# filter = ['male', 'female', 'cigarette']\n",
    "\n",
    "labels = np.array(punks_df[filter])\n",
    "data = np.array([load_image(row) for row in range(len(labels))])"
   ]
  },
  {
   "cell_type": "code",
   "execution_count": 5,
   "metadata": {},
   "outputs": [
    {
     "name": "stdout",
     "output_type": "stream",
     "text": [
      "(24, 24, 4)\n",
      "filter: [1 0]\n"
     ]
    }
   ],
   "source": [
    "# train_dataset = loader.PunksDataset(filter, train=True)\n",
    "train_dataset = PunksDataset(filter, train=False)\n",
    "\n",
    "\n",
    "punk, labels = train_dataset[42]\n",
    "print(punk.shape)\n",
    "print(\"filter:\", labels)\n",
    "# loader.write_image(punk2, \"42.jpg\")"
   ]
  },
  {
   "cell_type": "code",
   "execution_count": 6,
   "metadata": {},
   "outputs": [
    {
     "name": "stdout",
     "output_type": "stream",
     "text": [
      "<class 'torch.Tensor'>\n",
      "<class 'torch.Tensor'>\n",
      "<class 'torch.Tensor'>\n",
      "<class 'torch.Tensor'>\n",
      "torch.Size([32, 24, 24, 4])\n",
      "torch.Size([24, 24, 4])\n",
      "filter: [0 1]\n"
     ]
    }
   ],
   "source": [
    "train_loader = torch.utils.data.DataLoader(\n",
    "    dataset=train_dataset, batch_size=batch_size, shuffle=False\n",
    ")\n",
    "\n",
    "punk_batch, labels_batch = next(iter(train_loader))\n",
    "print(type(punk_batch))\n",
    "print(type(punk_batch[0]))\n",
    "print(type(punk_batch[0][0]))\n",
    "print(type(punk_batch[0][0][0]))\n",
    "# print(type(punk_batch[0][0][0][0]))\n",
    "print(punk_batch.shape)\n",
    "print(punk_batch[0].shape)\n",
    "print(\"filter:\", labels_batch[0].numpy())\n",
    "\n",
    "write_image(punk_batch[0].numpy(), \"0.jpg\")"
   ]
  },
  {
   "cell_type": "code",
   "execution_count": 7,
   "metadata": {},
   "outputs": [
    {
     "data": {
      "text/plain": [
       "Sequential(\n",
       "  (0): Flatten(start_dim=1, end_dim=-1)\n",
       "  (1): Linear(in_features=2304, out_features=200, bias=True)\n",
       "  (2): ReLU()\n",
       "  (3): Linear(in_features=200, out_features=150, bias=True)\n",
       "  (4): ReLU()\n",
       "  (5): Linear(in_features=150, out_features=2, bias=True)\n",
       "  (6): ReLU()\n",
       ")"
      ]
     },
     "execution_count": 7,
     "metadata": {},
     "output_type": "execute_result"
    }
   ],
   "source": [
    "model = nn.Sequential(\n",
    "    nn.Flatten(),\n",
    "    nn.Linear(24*24*4, 200),\n",
    "    nn.ReLU(),\n",
    "    nn.Linear(200, 150),\n",
    "    nn.ReLU(),\n",
    "    # nn.Linear(150, len(filter)),\n",
    "    nn.Linear(150, 2),\n",
    "    nn.ReLU(),\n",
    "    # nn.Softmax(dim=1)\n",
    ")\n",
    "\n",
    "optimizer = torch.optim.Adam(model.parameters(), lr=0.0005)\n",
    "criterion = nn.CrossEntropyLoss()\n",
    "# criterion = nn.NLLLoss()\n",
    "\n",
    "model.to(device)\n"
   ]
  },
  {
   "cell_type": "code",
   "execution_count": 8,
   "metadata": {},
   "outputs": [
    {
     "ename": "RuntimeError",
     "evalue": "Expected floating point type for target with class probabilities, got Long",
     "output_type": "error",
     "traceback": [
      "\u001b[0;31m---------------------------------------------------------------------------\u001b[0m",
      "\u001b[0;31mRuntimeError\u001b[0m                              Traceback (most recent call last)",
      "Cell \u001b[0;32mIn[8], line 10\u001b[0m\n\u001b[1;32m      8\u001b[0m optimizer\u001b[39m.\u001b[39mzero_grad()\n\u001b[1;32m      9\u001b[0m outputs \u001b[39m=\u001b[39m model(inputs)\n\u001b[0;32m---> 10\u001b[0m loss \u001b[39m=\u001b[39m criterion(outputs, labels)\n\u001b[1;32m     11\u001b[0m loss\u001b[39m.\u001b[39mbackward()\n\u001b[1;32m     12\u001b[0m optimizer\u001b[39m.\u001b[39mstep()\n",
      "File \u001b[0;32m~/ML/firepunks/venv/lib/python3.11/site-packages/torch/nn/modules/module.py:1501\u001b[0m, in \u001b[0;36mModule._call_impl\u001b[0;34m(self, *args, **kwargs)\u001b[0m\n\u001b[1;32m   1496\u001b[0m \u001b[39m# If we don't have any hooks, we want to skip the rest of the logic in\u001b[39;00m\n\u001b[1;32m   1497\u001b[0m \u001b[39m# this function, and just call forward.\u001b[39;00m\n\u001b[1;32m   1498\u001b[0m \u001b[39mif\u001b[39;00m \u001b[39mnot\u001b[39;00m (\u001b[39mself\u001b[39m\u001b[39m.\u001b[39m_backward_hooks \u001b[39mor\u001b[39;00m \u001b[39mself\u001b[39m\u001b[39m.\u001b[39m_backward_pre_hooks \u001b[39mor\u001b[39;00m \u001b[39mself\u001b[39m\u001b[39m.\u001b[39m_forward_hooks \u001b[39mor\u001b[39;00m \u001b[39mself\u001b[39m\u001b[39m.\u001b[39m_forward_pre_hooks\n\u001b[1;32m   1499\u001b[0m         \u001b[39mor\u001b[39;00m _global_backward_pre_hooks \u001b[39mor\u001b[39;00m _global_backward_hooks\n\u001b[1;32m   1500\u001b[0m         \u001b[39mor\u001b[39;00m _global_forward_hooks \u001b[39mor\u001b[39;00m _global_forward_pre_hooks):\n\u001b[0;32m-> 1501\u001b[0m     \u001b[39mreturn\u001b[39;00m forward_call(\u001b[39m*\u001b[39;49margs, \u001b[39m*\u001b[39;49m\u001b[39m*\u001b[39;49mkwargs)\n\u001b[1;32m   1502\u001b[0m \u001b[39m# Do not call functions when jit is used\u001b[39;00m\n\u001b[1;32m   1503\u001b[0m full_backward_hooks, non_full_backward_hooks \u001b[39m=\u001b[39m [], []\n",
      "File \u001b[0;32m~/ML/firepunks/venv/lib/python3.11/site-packages/torch/nn/modules/loss.py:1174\u001b[0m, in \u001b[0;36mCrossEntropyLoss.forward\u001b[0;34m(self, input, target)\u001b[0m\n\u001b[1;32m   1173\u001b[0m \u001b[39mdef\u001b[39;00m \u001b[39mforward\u001b[39m(\u001b[39mself\u001b[39m, \u001b[39minput\u001b[39m: Tensor, target: Tensor) \u001b[39m-\u001b[39m\u001b[39m>\u001b[39m Tensor:\n\u001b[0;32m-> 1174\u001b[0m     \u001b[39mreturn\u001b[39;00m F\u001b[39m.\u001b[39;49mcross_entropy(\u001b[39minput\u001b[39;49m, target, weight\u001b[39m=\u001b[39;49m\u001b[39mself\u001b[39;49m\u001b[39m.\u001b[39;49mweight,\n\u001b[1;32m   1175\u001b[0m                            ignore_index\u001b[39m=\u001b[39;49m\u001b[39mself\u001b[39;49m\u001b[39m.\u001b[39;49mignore_index, reduction\u001b[39m=\u001b[39;49m\u001b[39mself\u001b[39;49m\u001b[39m.\u001b[39;49mreduction,\n\u001b[1;32m   1176\u001b[0m                            label_smoothing\u001b[39m=\u001b[39;49m\u001b[39mself\u001b[39;49m\u001b[39m.\u001b[39;49mlabel_smoothing)\n",
      "File \u001b[0;32m~/ML/firepunks/venv/lib/python3.11/site-packages/torch/nn/functional.py:3029\u001b[0m, in \u001b[0;36mcross_entropy\u001b[0;34m(input, target, weight, size_average, ignore_index, reduce, reduction, label_smoothing)\u001b[0m\n\u001b[1;32m   3027\u001b[0m \u001b[39mif\u001b[39;00m size_average \u001b[39mis\u001b[39;00m \u001b[39mnot\u001b[39;00m \u001b[39mNone\u001b[39;00m \u001b[39mor\u001b[39;00m reduce \u001b[39mis\u001b[39;00m \u001b[39mnot\u001b[39;00m \u001b[39mNone\u001b[39;00m:\n\u001b[1;32m   3028\u001b[0m     reduction \u001b[39m=\u001b[39m _Reduction\u001b[39m.\u001b[39mlegacy_get_string(size_average, reduce)\n\u001b[0;32m-> 3029\u001b[0m \u001b[39mreturn\u001b[39;00m torch\u001b[39m.\u001b[39;49m_C\u001b[39m.\u001b[39;49m_nn\u001b[39m.\u001b[39;49mcross_entropy_loss(\u001b[39minput\u001b[39;49m, target, weight, _Reduction\u001b[39m.\u001b[39;49mget_enum(reduction), ignore_index, label_smoothing)\n",
      "\u001b[0;31mRuntimeError\u001b[0m: Expected floating point type for target with class probabilities, got Long"
     ]
    }
   ],
   "source": [
    "num_epoch = 10\n",
    "running_loss = 0\n",
    "\n",
    "\n",
    "for epoch in range(num_epoch):\n",
    "    for inputs, labels in train_loader:\n",
    "        inputs, labels = inputs.to(device), labels.to(device)\n",
    "        optimizer.zero_grad()\n",
    "        outputs = model(inputs)\n",
    "        loss = criterion(outputs, labels)\n",
    "        loss.backward()\n",
    "        optimizer.step()\n",
    "        running_loss += loss.item()\n",
    "\n",
    "    print('Epoch[{}/{}], loss: {:.6f}'\n",
    "        .format(epoch + 1, num_epoch, loss.data.item()))"
   ]
  },
  {
   "cell_type": "code",
   "execution_count": null,
   "metadata": {},
   "outputs": [],
   "source": [
    "# # test_dataset = loader.PunksDataset(filter, train=True)\n",
    "# test_dataset = loader.PunksDataset(filter, train=True)\n",
    "\n",
    "# test_loader = torch.utils.data.DataLoader(\n",
    "#     dataset=test_dataset, batch_size=batch_size, shuffle=False\n",
    "# )\n",
    "\n",
    "# img, label = next(iter(test_loader))\n",
    "# loader.write_image(img[0].numpy(), 'test.jpg')"
   ]
  },
  {
   "cell_type": "code",
   "execution_count": null,
   "metadata": {},
   "outputs": [],
   "source": [
    "# outputs = model(img)\n",
    "# print(outputs)\n",
    "# vals = outputs.data.cpu().numpy().argmax()\n",
    "# vals"
   ]
  }
 ],
 "metadata": {
  "kernelspec": {
   "display_name": "venv",
   "language": "python",
   "name": "python3"
  },
  "language_info": {
   "codemirror_mode": {
    "name": "ipython",
    "version": 3
   },
   "file_extension": ".py",
   "mimetype": "text/x-python",
   "name": "python",
   "nbconvert_exporter": "python",
   "pygments_lexer": "ipython3",
   "version": "3.11.3"
  },
  "orig_nbformat": 4
 },
 "nbformat": 4,
 "nbformat_minor": 2
}
