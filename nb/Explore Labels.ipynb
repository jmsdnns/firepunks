{
 "cells": [
  {
   "attachments": {},
   "cell_type": "markdown",
   "metadata": {},
   "source": [
    "# An Exploration of the Data"
   ]
  },
  {
   "cell_type": "code",
   "execution_count": 1,
   "metadata": {},
   "outputs": [
    {
     "data": {
      "text/plain": [
       "<torch._C.Generator at 0x7f86137f19b0>"
      ]
     },
     "execution_count": 1,
     "metadata": {},
     "output_type": "execute_result"
    }
   ],
   "source": [
    "from collections import defaultdict\n",
    "import json\n",
    "\n",
    "import loader as L\n",
    "\n",
    "import numpy as np\n",
    "np.random.seed(42)\n",
    "import torch\n",
    "torch.manual_seed(42)\n"
   ]
  },
  {
   "cell_type": "code",
   "execution_count": 2,
   "metadata": {},
   "outputs": [],
   "source": [
    "punks = json.loads(open(L.PUNK_LABELS).read())\n",
    "train = json.loads(open(L.TRAIN_LABELS).read())\n",
    "test = json.loads(open(L.TEST_LABELS).read())\n",
    "datasets = (punks, train, test)"
   ]
  },
  {
   "cell_type": "code",
   "execution_count": 3,
   "metadata": {},
   "outputs": [
    {
     "name": "stdout",
     "output_type": "stream",
     "text": [
      "alien: (9, 9, 0)\n",
      "ape: (24, 22, 2)\n",
      "zombie: (88, 80, 8)\n"
     ]
    }
   ],
   "source": [
    "def key_splits(key, wholeset, trainset, testset):\n",
    "    ds = len([p for p in wholeset.items() if p[1][key]])\n",
    "    tr = len([p for p in trainset.items() if p[1][key]])\n",
    "    te = len([p for p in testset.items() if p[1][key]])\n",
    "    return (ds, tr, te)\n",
    "\n",
    "\n",
    "def print_splits(key, *datasets):\n",
    "    splits = key_splits(key, *datasets)\n",
    "    print(f'{key}: {splits}')\n",
    "\n",
    "\n",
    "print_splits('alien', *datasets)\n",
    "print_splits('ape', *datasets)\n",
    "print_splits('zombie', *datasets)\n"
   ]
  },
  {
   "cell_type": "code",
   "execution_count": 4,
   "metadata": {},
   "outputs": [
    {
     "name": "stdout",
     "output_type": "stream",
     "text": [
      "9000\n",
      "1000\n"
     ]
    }
   ],
   "source": [
    "punks_df = L.make_punks_df(L.PUNK_LABELS)\n",
    "train_idx, test_idx = L.df_split(punks_df, 1000)\n",
    "print(len(train_idx))\n",
    "print(len(test_idx))"
   ]
  },
  {
   "cell_type": "code",
   "execution_count": 5,
   "metadata": {},
   "outputs": [],
   "source": [
    "from torch.utils.data import SubsetRandomSampler, DataLoader\n",
    "\n",
    "punks_ds = L.PunksDataset(L.ALL_FILTERS, test_size=2000)\n",
    "train_sampler = SubsetRandomSampler(punks_ds.train_idx)\n",
    "test_sampler = SubsetRandomSampler(punks_ds.test_idx)\n",
    "\n",
    "\n",
    "batch_size = 32\n",
    "\n",
    "train_loader = DataLoader(\n",
    "    dataset=punks_ds, batch_size=batch_size, shuffle=False, sampler=train_sampler\n",
    ")\n",
    "test_loader = DataLoader(\n",
    "    dataset=punks_ds, batch_size=batch_size, shuffle=False, sampler=test_sampler\n",
    ")\n"
   ]
  },
  {
   "cell_type": "code",
   "execution_count": 6,
   "metadata": {},
   "outputs": [
    {
     "name": "stdout",
     "output_type": "stream",
     "text": [
      "250\n",
      "8000\n",
      "63\n",
      "2016\n",
      "32\n",
      "16\n"
     ]
    }
   ],
   "source": [
    "print(len(train_loader))                     # 250\n",
    "print(len(iter(train_loader)) * batch_size)  # 8000\n",
    "\n",
    "print(len(test_loader))                      # 63\n",
    "print(len(iter(test_loader)) * batch_size)   # 2016\n",
    "\n",
    "\n",
    "ps = defaultdict(int)\n",
    "for idx, (punk, label) in enumerate(train_loader):\n",
    "    ps[idx] = punk\n",
    "\n",
    "# last batch is 32\n",
    "print(len(punk))\n",
    "\n",
    "\n",
    "ps = defaultdict(int)\n",
    "for idx, (punk, label) in enumerate(test_loader):\n",
    "    ps[idx] = punk\n",
    "\n",
    "# last batch is 16, giving total of 2000 items\n",
    "print(len(punk))\n"
   ]
  },
  {
   "cell_type": "code",
   "execution_count": 7,
   "metadata": {},
   "outputs": [
    {
     "name": "stdout",
     "output_type": "stream",
     "text": [
      "9000\n",
      "1000\n",
      "10000\n",
      "0\n"
     ]
    }
   ],
   "source": [
    "punks_ds = L.PunksDataset(L.ALL_FILTERS, test_size=1000)\n",
    "print(len(punks_ds.train_idx))\n",
    "print(len(punks_ds.test_idx))\n",
    "\n",
    "punks_ds = L.PunksDataset(L.ALL_FILTERS, test_size=0)\n",
    "print(len(punks_ds.train_idx))\n",
    "print(len(punks_ds.test_idx))"
   ]
  },
  {
   "cell_type": "code",
   "execution_count": null,
   "metadata": {},
   "outputs": [],
   "source": []
  }
 ],
 "metadata": {
  "kernelspec": {
   "display_name": "venv",
   "language": "python",
   "name": "python3"
  },
  "language_info": {
   "codemirror_mode": {
    "name": "ipython",
    "version": 3
   },
   "file_extension": ".py",
   "mimetype": "text/x-python",
   "name": "python",
   "nbconvert_exporter": "python",
   "pygments_lexer": "ipython3",
   "version": "3.11.3"
  },
  "orig_nbformat": 4
 },
 "nbformat": 4,
 "nbformat_minor": 2
}
