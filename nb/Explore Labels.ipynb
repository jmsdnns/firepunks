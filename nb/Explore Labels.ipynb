{
 "cells": [
  {
   "attachments": {},
   "cell_type": "markdown",
   "metadata": {},
   "source": [
    "# Exploring the labels"
   ]
  },
  {
   "cell_type": "code",
   "execution_count": 8,
   "metadata": {},
   "outputs": [
    {
     "data": {
      "text/plain": [
       "<torch._C.Generator at 0x7fcf53fc1db0>"
      ]
     },
     "execution_count": 8,
     "metadata": {},
     "output_type": "execute_result"
    }
   ],
   "source": [
    "from collections import defaultdict\n",
    "\n",
    "import numpy as np\n",
    "import torch\n",
    "from torch.utils.data import SubsetRandomSampler, DataLoader\n",
    "from torchvision import transforms\n",
    "\n",
    "np.random.seed(42)\n",
    "torch.manual_seed(42)"
   ]
  },
  {
   "cell_type": "code",
   "execution_count": 2,
   "metadata": {},
   "outputs": [],
   "source": [
    "import sys, os\n",
    "sys.path.append(os.path.join(os.getcwd(), 'firepunks'))\n",
    "\n",
    "from firepunks import datasets as DS"
   ]
  },
  {
   "attachments": {},
   "cell_type": "markdown",
   "metadata": {},
   "source": [
    "# Using Fire Punks Dataset"
   ]
  },
  {
   "cell_type": "code",
   "execution_count": 3,
   "metadata": {},
   "outputs": [
    {
     "name": "stdout",
     "output_type": "stream",
     "text": [
      "9000\n",
      "1000\n"
     ]
    }
   ],
   "source": [
    "punks_labels = DS.load_labels(DS.PUNK_LABELS)\n",
    "\n",
    "train_idx, test_idx = DS.split_labels(punks_labels, 1000)\n",
    "print(len(train_idx))\n",
    "print(len(test_idx))"
   ]
  },
  {
   "attachments": {},
   "cell_type": "markdown",
   "metadata": {},
   "source": [
    "We'll create DataLoaders for the firepunks dataset with a transform to convert the PIL images into scaled pytorch tensors."
   ]
  },
  {
   "cell_type": "code",
   "execution_count": 9,
   "metadata": {},
   "outputs": [],
   "source": [
    "punk_transforms = transforms.Compose([\n",
    "    transforms.ToTensor(),\n",
    "])\n",
    "\n",
    "punks_ds = DS.FirePunksDataset(DS.ALL_LABELS, test_size=2000, transform=punk_transforms)\n",
    "train_sampler = SubsetRandomSampler(punks_ds.train_idx)\n",
    "test_sampler = SubsetRandomSampler(punks_ds.test_idx)\n",
    "\n",
    "batch_size = 32\n",
    "\n",
    "train_loader = DataLoader(\n",
    "    dataset=punks_ds, batch_size=batch_size, shuffle=False, sampler=train_sampler\n",
    ")\n",
    "test_loader = DataLoader(\n",
    "    dataset=punks_ds, batch_size=batch_size, shuffle=False, sampler=test_sampler\n",
    ")"
   ]
  },
  {
   "attachments": {},
   "cell_type": "markdown",
   "metadata": {},
   "source": [
    "Using batch size 32 with 2000 test items means the last batch is size 16 instead of 32."
   ]
  },
  {
   "cell_type": "code",
   "execution_count": 11,
   "metadata": {},
   "outputs": [
    {
     "name": "stdout",
     "output_type": "stream",
     "text": [
      "250\n",
      "8000\n",
      "63\n",
      "2016\n",
      "32\n",
      "16\n"
     ]
    }
   ],
   "source": [
    "print(len(train_loader))                     # 250\n",
    "print(len(iter(train_loader)) * batch_size)  # 8000\n",
    "\n",
    "print(len(test_loader))                      # 63\n",
    "print(len(iter(test_loader)) * batch_size)   # 2016\n",
    "\n",
    "\n",
    "ps = defaultdict(int)\n",
    "for idx, (punk, label) in enumerate(train_loader):\n",
    "    ps[idx] = punk\n",
    "\n",
    "# last batch is 32\n",
    "print(len(punk))\n",
    "\n",
    "\n",
    "ps = defaultdict(int)\n",
    "for idx, (punk, label) in enumerate(test_loader):\n",
    "    ps[idx] = punk\n",
    "\n",
    "# last batch is 16, giving total of 2000 items\n",
    "print(len(punk))"
   ]
  },
  {
   "attachments": {},
   "cell_type": "markdown",
   "metadata": {},
   "source": [
    "Different test sizes works fine with the firepunks dataset"
   ]
  },
  {
   "cell_type": "code",
   "execution_count": 12,
   "metadata": {},
   "outputs": [
    {
     "name": "stdout",
     "output_type": "stream",
     "text": [
      "9000\n",
      "1000\n",
      "10000\n",
      "0\n"
     ]
    }
   ],
   "source": [
    "punks_ds = DS.FirePunksDataset(DS.ALL_LABELS, test_size=1000, transform=punk_transforms)\n",
    "print(len(punks_ds.train_idx))\n",
    "print(len(punks_ds.test_idx))\n",
    "\n",
    "punks_ds = DS.FirePunksDataset(DS.ALL_LABELS, test_size=0, transform=punk_transforms)\n",
    "print(len(punks_ds.train_idx))\n",
    "print(len(punks_ds.test_idx))"
   ]
  },
  {
   "attachments": {},
   "cell_type": "markdown",
   "metadata": {},
   "source": [
    "# Using CPunks Dataset"
   ]
  },
  {
   "attachments": {},
   "cell_type": "markdown",
   "metadata": {},
   "source": [
    "We do the same thing as above, but with the legacy format from cpunks"
   ]
  },
  {
   "cell_type": "code",
   "execution_count": null,
   "metadata": {},
   "outputs": [],
   "source": [
    "punks_df = DS.load_labels_df(DS.PUNK_LABELS)\n",
    "train_idx, test_idx = DS.split_df(punks_df, 1000)\n",
    "print(len(train_idx))\n",
    "print(len(test_idx))"
   ]
  },
  {
   "cell_type": "code",
   "execution_count": null,
   "metadata": {},
   "outputs": [],
   "source": [
    "punks_ds = DS.CPunksDataset(DS.ALL_LABELS, test_size=2000)\n",
    "train_sampler = SubsetRandomSampler(punks_ds.train_idx)\n",
    "test_sampler = SubsetRandomSampler(punks_ds.test_idx)\n",
    "\n",
    "\n",
    "batch_size = 32\n",
    "\n",
    "train_loader = DataLoader(\n",
    "    dataset=punks_ds, batch_size=batch_size, shuffle=False, sampler=train_sampler\n",
    ")\n",
    "test_loader = DataLoader(\n",
    "    dataset=punks_ds, batch_size=batch_size, shuffle=False, sampler=test_sampler\n",
    ")\n"
   ]
  },
  {
   "cell_type": "code",
   "execution_count": null,
   "metadata": {},
   "outputs": [],
   "source": [
    "print(len(train_loader))                     # 250\n",
    "print(len(iter(train_loader)) * batch_size)  # 8000\n",
    "\n",
    "print(len(test_loader))                      # 63\n",
    "print(len(iter(test_loader)) * batch_size)   # 2016\n",
    "\n",
    "\n",
    "ps = defaultdict(int)\n",
    "for idx, (punk, label) in enumerate(train_loader):\n",
    "    ps[idx] = punk\n",
    "\n",
    "# last batch is 32\n",
    "print(len(punk))\n",
    "\n",
    "\n",
    "ps = defaultdict(int)\n",
    "for idx, (punk, label) in enumerate(test_loader):\n",
    "    ps[idx] = punk\n",
    "\n",
    "# last batch is 16, giving total of 2000 items\n",
    "print(len(punk))\n"
   ]
  },
  {
   "cell_type": "code",
   "execution_count": null,
   "metadata": {},
   "outputs": [],
   "source": [
    "punks_ds = DS.CPunksDataset(DS.ALL_LABELS, test_size=1000)\n",
    "print(len(punks_ds.train_idx))\n",
    "print(len(punks_ds.test_idx))\n",
    "\n",
    "punks_ds = DS.CPunksDataset(DS.ALL_LABELS, test_size=0)\n",
    "print(len(punks_ds.train_idx))\n",
    "print(len(punks_ds.test_idx))"
   ]
  },
  {
   "cell_type": "code",
   "execution_count": null,
   "metadata": {},
   "outputs": [],
   "source": []
  }
 ],
 "metadata": {
  "kernelspec": {
   "display_name": "venv",
   "language": "python",
   "name": "python3"
  },
  "language_info": {
   "codemirror_mode": {
    "name": "ipython",
    "version": 3
   },
   "file_extension": ".py",
   "mimetype": "text/x-python",
   "name": "python",
   "nbconvert_exporter": "python",
   "pygments_lexer": "ipython3",
   "version": "3.11.3"
  },
  "orig_nbformat": 4
 },
 "nbformat": 4,
 "nbformat_minor": 2
}
