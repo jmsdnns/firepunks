{
 "cells": [
  {
   "attachments": {},
   "cell_type": "markdown",
   "metadata": {},
   "source": [
    "# Convolutional Punk"
   ]
  },
  {
   "cell_type": "code",
   "execution_count": 1,
   "metadata": {},
   "outputs": [],
   "source": [
    "from collections import defaultdict\n",
    "\n",
    "import numpy as np\n",
    "import matplotlib.pyplot as plt\n",
    "import torch\n",
    "from torch import nn\n",
    "from torch.utils.data import SubsetRandomSampler, DataLoader\n",
    "from torchvision import transforms\n",
    "import torchvision.transforms.functional as F\n",
    "\n",
    "from torch.autograd import Variable   "
   ]
  },
  {
   "cell_type": "code",
   "execution_count": 2,
   "metadata": {},
   "outputs": [],
   "source": [
    "import sys, os\n",
    "sys.path.append(os.path.join(os.getcwd(), 'firepunks'))\n",
    "\n",
    "from firepunks import datasets as DS"
   ]
  },
  {
   "cell_type": "code",
   "execution_count": 3,
   "metadata": {},
   "outputs": [],
   "source": [
    "device = \"cpu\""
   ]
  },
  {
   "cell_type": "code",
   "execution_count": 4,
   "metadata": {},
   "outputs": [],
   "source": [
    "punk_transforms = transforms.Compose([\n",
    "    transforms.ToTensor(),\n",
    "])\n",
    "\n",
    "punks_ds = DS.FirePunksDataset(DS.ALL_LABELS, test_size=2000, transform=punk_transforms)\n",
    "\n",
    "train_sampler = SubsetRandomSampler(punks_ds.train_idx)\n",
    "test_sampler = SubsetRandomSampler(punks_ds.test_idx)\n",
    "\n",
    "\n",
    "batch_size = 32\n",
    "\n",
    "train_loader = DataLoader(\n",
    "    dataset=punks_ds, batch_size=batch_size, shuffle=False, sampler=train_sampler\n",
    ")\n",
    "test_loader = DataLoader(\n",
    "    dataset=punks_ds, batch_size=batch_size, shuffle=False, sampler=test_sampler\n",
    ")\n",
    "\n"
   ]
  },
  {
   "cell_type": "code",
   "execution_count": 5,
   "metadata": {},
   "outputs": [
    {
     "name": "stdout",
     "output_type": "stream",
     "text": [
      "32\n",
      "16\n"
     ]
    }
   ],
   "source": [
    "ps = defaultdict(int)\n",
    "for idx, (punk, label) in enumerate(train_loader):\n",
    "    ps[idx] = punk\n",
    "\n",
    "# last batch is 32\n",
    "print(len(punk))\n",
    "\n",
    "\n",
    "ps = defaultdict(int)\n",
    "for idx, (punk, label) in enumerate(test_loader):\n",
    "    ps[idx] = punk\n",
    "\n",
    "# last batch is 16, giving total of 2000 items\n",
    "print(len(punk))"
   ]
  },
  {
   "cell_type": "code",
   "execution_count": 6,
   "metadata": {},
   "outputs": [
    {
     "name": "stdout",
     "output_type": "stream",
     "text": [
      "tensor(0.) tensor(1.)\n",
      "16\n",
      "torch.Size([3, 24, 24])\n",
      "24\n",
      "tensor([1., 1., 1., 1., 1., 1., 1., 1., 1., 1., 1., 1., 1., 1., 1., 1., 1., 1.,\n",
      "        1., 1., 1., 1., 1., 1.])\n",
      "<class 'torch.Tensor'>\n"
     ]
    }
   ],
   "source": [
    "print(torch.min(punk), torch.max(punk))\n",
    "print(len(punk))\n",
    "print(punk[0].shape)\n",
    "print(len(punk[0][0][0]))\n",
    "print(punk[0][0][0])\n",
    "\n",
    "print(type(punk))"
   ]
  },
  {
   "cell_type": "code",
   "execution_count": 7,
   "metadata": {},
   "outputs": [
    {
     "name": "stdout",
     "output_type": "stream",
     "text": [
      "torch.Size([32, 22, 22])\n",
      "torch.Size([64, 20, 20])\n",
      "torch.Size([64, 18, 18])\n",
      "torch.Size([64, 16, 16])\n"
     ]
    }
   ],
   "source": [
    "enc1 = nn.Conv2d(3, 32, 3, 1)\n",
    "enc2 = nn.Conv2d(32, 64, 3, 1)\n",
    "enc3 = nn.Conv2d(64, 64, 3, 1)\n",
    "enc4 = nn.Conv2d(64, 64, 3, 1)\n",
    "\n",
    "x = enc1(punk[0])\n",
    "x = nn.LeakyReLU()(x)\n",
    "print(x.shape)\n",
    "\n",
    "x = enc2(x)\n",
    "x = nn.LeakyReLU()(x)\n",
    "print(x.shape)\n",
    "\n",
    "x = enc3(x)\n",
    "x = nn.LeakyReLU()(x)\n",
    "print(x.shape)\n",
    "\n",
    "x = enc4(x)\n",
    "# x = nn.LeakyReLU()(x)\n",
    "print(x.shape)"
   ]
  },
  {
   "cell_type": "code",
   "execution_count": 8,
   "metadata": {},
   "outputs": [
    {
     "name": "stdout",
     "output_type": "stream",
     "text": [
      "torch.Size([64, 14, 14])\n",
      "torch.Size([64, 12, 12])\n",
      "torch.Size([32, 10, 10])\n",
      "torch.Size([3, 8, 8])\n"
     ]
    }
   ],
   "source": [
    "dec1 = nn.Conv2d(64, 64, 3, 1)\n",
    "dec2 = nn.Conv2d(64, 64, 3, 1)\n",
    "dec3 = nn.Conv2d(64, 32, 3, 1)\n",
    "dec4 = nn.Conv2d(32, 3, 3, 1)\n",
    "\n",
    "x = dec1(x)\n",
    "x = nn.LeakyReLU()(x)\n",
    "print(x.shape)\n",
    "\n",
    "x = dec2(x)\n",
    "x = nn.LeakyReLU()(x)\n",
    "print(x.shape)\n",
    "\n",
    "x = dec3(x)\n",
    "x = nn.LeakyReLU()(x)\n",
    "print(x.shape)\n",
    "\n",
    "x = dec4(x)\n",
    "# x = nn.LeakyReLU()(x)\n",
    "print(x.shape)"
   ]
  },
  {
   "cell_type": "code",
   "execution_count": 9,
   "metadata": {},
   "outputs": [
    {
     "data": {
      "text/plain": [
       "tensor([[[-8.6649e-03, -8.5657e-03, -9.2760e-03,  ..., -1.1597e-02,\n",
       "          -9.1313e-03, -8.5078e-03],\n",
       "         [-8.5657e-03, -7.4776e-03,  1.9017e-03,  ..., -7.8822e-03,\n",
       "          -1.0985e-02, -9.1313e-03],\n",
       "         [-5.1876e-03,  3.5529e-04, -7.1492e-03,  ..., -1.0101e-02,\n",
       "          -8.9287e-03, -9.7157e-03],\n",
       "         ...,\n",
       "         [-1.0141e-03,  4.9966e-03, -1.6627e-02,  ...,  2.3778e-03,\n",
       "          -1.9424e-02, -2.9492e-03],\n",
       "         [-8.3288e-03,  5.3865e-03, -2.1622e-02,  ...,  1.6502e-03,\n",
       "          -2.0163e-02, -1.8532e-03],\n",
       "         [ 2.2068e-04,  2.9424e-03, -5.4420e-04,  ...,  2.7547e-03,\n",
       "          -2.2221e-02,  4.7521e-03]],\n",
       "\n",
       "        [[-4.1552e-03, -6.0568e-03, -2.4519e-03,  ..., -3.7183e-03,\n",
       "          -3.7689e-04, -3.8203e-03],\n",
       "         [-6.0568e-03, -2.5609e-03, -1.2341e-03,  ..., -2.7348e-03,\n",
       "          -3.8168e-03, -3.7689e-04],\n",
       "         [-5.6770e-03, -1.7189e-03, -8.7879e-03,  ..., -2.1084e-03,\n",
       "          -7.7528e-04, -4.7131e-03],\n",
       "         ...,\n",
       "         [ 2.0791e-03,  3.0004e-03,  2.4497e-02,  ..., -1.7147e-02,\n",
       "          -1.6428e-03,  4.1235e-03],\n",
       "         [ 9.7312e-03, -3.6111e-03,  1.0723e-02,  ..., -1.4016e-02,\n",
       "           2.5569e-03,  5.2987e-03],\n",
       "         [ 4.1560e-03, -9.5054e-03,  1.9036e-02,  ..., -4.7971e-03,\n",
       "           1.4198e-03, -1.3499e-03]],\n",
       "\n",
       "        [[ 5.7259e-02,  5.6876e-02,  5.2275e-02,  ...,  5.8573e-02,\n",
       "           5.6918e-02,  5.6410e-02],\n",
       "         [ 5.6876e-02,  5.3048e-02,  5.5073e-02,  ...,  5.3333e-02,\n",
       "           5.8726e-02,  5.6918e-02],\n",
       "         [ 5.4881e-02,  5.5691e-02,  4.3452e-02,  ...,  5.4127e-02,\n",
       "           5.0131e-02,  6.0343e-02],\n",
       "         ...,\n",
       "         [ 5.7603e-02,  5.4099e-02,  6.7617e-02,  ...,  3.7960e-02,\n",
       "           5.1675e-02,  4.6273e-02],\n",
       "         [ 5.7945e-02,  6.0586e-02,  6.4843e-02,  ...,  4.5843e-02,\n",
       "           5.6870e-02,  4.8954e-02],\n",
       "         [ 5.4457e-02,  5.8101e-02,  6.0730e-02,  ...,  6.0563e-02,\n",
       "           4.7563e-02,  5.5086e-02]],\n",
       "\n",
       "        ...,\n",
       "\n",
       "        [[ 6.9235e-02,  6.9633e-02,  6.9837e-02,  ...,  7.0159e-02,\n",
       "           6.9066e-02,  6.7724e-02],\n",
       "         [ 6.9633e-02,  7.0798e-02,  6.5590e-02,  ...,  6.9750e-02,\n",
       "           7.0916e-02,  6.9066e-02],\n",
       "         [ 7.0838e-02,  6.3330e-02,  7.5468e-02,  ...,  7.4517e-02,\n",
       "           7.3055e-02,  6.9317e-02],\n",
       "         ...,\n",
       "         [ 6.5499e-02,  6.1513e-02,  5.1209e-02,  ...,  5.7246e-02,\n",
       "           5.7200e-02,  8.3030e-02],\n",
       "         [ 6.4379e-02,  6.3273e-02,  5.0574e-02,  ...,  4.1379e-02,\n",
       "           6.7310e-02,  8.4334e-02],\n",
       "         [ 6.0776e-02,  6.2664e-02,  5.9548e-02,  ...,  4.7492e-02,\n",
       "           7.2871e-02,  8.2446e-02]],\n",
       "\n",
       "        [[ 6.7757e-03,  7.0615e-03,  9.1473e-03,  ...,  6.2776e-03,\n",
       "           7.3306e-03,  6.3632e-03],\n",
       "         [ 7.0615e-03,  8.1489e-03,  4.5273e-03,  ...,  4.5777e-03,\n",
       "           6.7227e-03,  7.3306e-03],\n",
       "         [ 8.7219e-03, -2.4989e-03,  1.0866e-02,  ..., -6.8996e-03,\n",
       "           2.9039e-03,  7.1185e-03],\n",
       "         ...,\n",
       "         [ 6.0518e-03,  9.1965e-03, -8.1432e-03,  ...,  4.6550e-03,\n",
       "          -1.4019e-02, -4.0094e-03],\n",
       "         [ 7.0570e-05,  1.6510e-02, -1.5131e-02,  ..., -3.1917e-03,\n",
       "          -8.8632e-03, -7.2923e-03],\n",
       "         [-9.0164e-04,  5.3962e-03, -2.0194e-03,  ..., -5.4012e-03,\n",
       "          -1.6937e-02, -9.1886e-05]],\n",
       "\n",
       "        [[-4.1641e-02, -4.3506e-02, -4.1489e-02,  ..., -4.0471e-02,\n",
       "          -4.0767e-02, -4.1887e-02],\n",
       "         [-4.3506e-02, -4.0510e-02, -3.6897e-02,  ..., -4.2024e-02,\n",
       "          -4.1873e-02, -4.0767e-02],\n",
       "         [-4.3761e-02, -3.5787e-02, -5.0762e-02,  ..., -3.1682e-02,\n",
       "          -4.1977e-02, -4.3352e-02],\n",
       "         ...,\n",
       "         [-4.1849e-02, -3.6469e-02, -3.8522e-02,  ..., -3.1547e-02,\n",
       "          -3.8906e-02, -4.4719e-02],\n",
       "         [-3.6893e-02, -4.0570e-02, -3.4844e-02,  ..., -3.4508e-02,\n",
       "          -3.7243e-02, -4.4700e-02],\n",
       "         [-4.1008e-02, -4.2655e-02, -3.7641e-02,  ..., -3.6506e-02,\n",
       "          -3.3720e-02, -5.5369e-02]]], grad_fn=<SqueezeBackward1>)"
      ]
     },
     "execution_count": 9,
     "metadata": {},
     "output_type": "execute_result"
    }
   ],
   "source": [
    "# # From cpunks\n",
    "# # enc_conv_filters = [32, 64, 64, 64]\n",
    "# # enc_conv_kernel_size = [3, 3, 3, 3]\n",
    "# # enc_conv_strides = [1, 2, 2, 1]\n",
    "\n",
    "encoder = nn.Sequential(\n",
    "    nn.Conv2d(3, 32, 3, 1),\n",
    "    nn.LeakyReLU(),\n",
    "    nn.Conv2d(32, 64, 3, 1),\n",
    "    nn.LeakyReLU(),\n",
    "    nn.Conv2d(64, 64, 3, 1),\n",
    "    nn.LeakyReLU(),\n",
    "    nn.Conv2d(64, 64, 3, 1),\n",
    ")\n",
    "\n",
    "encoder(punk[0])"
   ]
  },
  {
   "cell_type": "code",
   "execution_count": 10,
   "metadata": {},
   "outputs": [
    {
     "data": {
      "text/plain": [
       "tensor([[[0.5082, 0.5050, 0.5043,  ..., 0.5035, 0.4997, 0.5032],\n",
       "         [0.5062, 0.5028, 0.4930,  ..., 0.4943, 0.4900, 0.4914],\n",
       "         [0.5074, 0.5013, 0.4954,  ..., 0.5007, 0.4910, 0.4944],\n",
       "         ...,\n",
       "         [0.5075, 0.5023, 0.4943,  ..., 0.4951, 0.4912, 0.4972],\n",
       "         [0.5040, 0.5027, 0.4921,  ..., 0.4921, 0.4946, 0.4970],\n",
       "         [0.5062, 0.5019, 0.5031,  ..., 0.5042, 0.5033, 0.5076]],\n",
       "\n",
       "        [[0.4975, 0.4997, 0.4953,  ..., 0.4943, 0.4961, 0.4928],\n",
       "         [0.4948, 0.5023, 0.5012,  ..., 0.5011, 0.5057, 0.4960],\n",
       "         [0.5070, 0.5223, 0.5225,  ..., 0.5186, 0.5159, 0.5001],\n",
       "         ...,\n",
       "         [0.5045, 0.5206, 0.5171,  ..., 0.5185, 0.5163, 0.5004],\n",
       "         [0.5046, 0.5179, 0.5209,  ..., 0.5244, 0.5190, 0.5042],\n",
       "         [0.5091, 0.5165, 0.5186,  ..., 0.5194, 0.5096, 0.5011]],\n",
       "\n",
       "        [[0.4866, 0.4889, 0.4883,  ..., 0.4895, 0.4896, 0.4859],\n",
       "         [0.4858, 0.4897, 0.4882,  ..., 0.4922, 0.4914, 0.4850],\n",
       "         [0.4884, 0.5011, 0.5008,  ..., 0.5023, 0.4973, 0.4837],\n",
       "         ...,\n",
       "         [0.4884, 0.5002, 0.5007,  ..., 0.5022, 0.4953, 0.4828],\n",
       "         [0.4876, 0.4973, 0.4938,  ..., 0.4948, 0.4923, 0.4825],\n",
       "         [0.4888, 0.4961, 0.4944,  ..., 0.4954, 0.4930, 0.4832]]],\n",
       "       grad_fn=<SigmoidBackward0>)"
      ]
     },
     "execution_count": 10,
     "metadata": {},
     "output_type": "execute_result"
    }
   ],
   "source": [
    "# # From cpunks\n",
    "# # dec_conv_t_filters = [64, 64, 32, 4]\n",
    "# # dec_conv_t_kernel_size = [3, 3, 3, 3]\n",
    "# # dec_conv_t_strides = [1, 2, 2, 1]\n",
    "\n",
    "decoder = nn.Sequential(\n",
    "    nn.ConvTranspose2d(64, 64, 3, 1),\n",
    "    nn.LeakyReLU(),\n",
    "    nn.ConvTranspose2d(64, 64, 3, 1),\n",
    "    nn.LeakyReLU(),\n",
    "    nn.ConvTranspose2d(64, 32, 3, 1),\n",
    "    nn.LeakyReLU(),\n",
    "    nn.ConvTranspose2d(32, 3, 3, 1),\n",
    "    nn.Sigmoid(),\n",
    ")\n",
    "\n",
    "decoder(encoder(punk[0]))"
   ]
  },
  {
   "cell_type": "code",
   "execution_count": 11,
   "metadata": {},
   "outputs": [],
   "source": [
    "\n",
    "class VAE(nn.Module):\n",
    "    def __init__(self, encoder, decoder):\n",
    "        super(VAE, self).__init__()\n",
    "        self.encoder = encoder\n",
    "        self.decoder = decoder\n",
    "\n",
    "    def forward(self, x):\n",
    "        x = self.encoder(x)\n",
    "        x = self.decoder(x)\n",
    "        return x\n",
    "\n",
    "\n",
    "model_vae = VAE(encoder, decoder)"
   ]
  },
  {
   "cell_type": "code",
   "execution_count": 12,
   "metadata": {},
   "outputs": [],
   "source": [
    "criterion = nn.MSELoss()\n",
    "optimizer = torch.optim.Adam(\n",
    "    model_vae.parameters(),\n",
    "    lr=1e-3,\n",
    "    weight_decay=1e-5\n",
    ")\n",
    "\n",
    "num_epochs = 10\n",
    "\n",
    "train_losses = []\n"
   ]
  },
  {
   "cell_type": "code",
   "execution_count": 13,
   "metadata": {},
   "outputs": [
    {
     "name": "stdout",
     "output_type": "stream",
     "text": [
      "Epoch 001 | Loss >> 0.0304\n",
      "Epoch 002 | Loss >> 0.0043\n",
      "Epoch 003 | Loss >> 0.0021\n",
      "Epoch 004 | Loss >> 0.0014\n",
      "Epoch 005 | Loss >> 0.0011\n",
      "Epoch 006 | Loss >> 0.0010\n",
      "Epoch 007 | Loss >> 0.0010\n",
      "Epoch 008 | Loss >> 0.0007\n",
      "Epoch 009 | Loss >> 0.0007\n",
      "Epoch 010 | Loss >> 0.0006\n"
     ]
    }
   ],
   "source": [
    "for epoch in range(1, num_epochs+1):\n",
    "    batch_losses = []\n",
    "    for inputs, _ in train_loader:\n",
    "        model_vae.train()\n",
    "        inputs = inputs.to(device)\n",
    "        yhat = model_vae(inputs)\n",
    "        loss = criterion(yhat, inputs) \n",
    "        optimizer.zero_grad()\n",
    "        loss.backward()\n",
    "        optimizer.step()\n",
    "        batch_losses.append(np.array([loss.data.item()]))\n",
    "\n",
    "    # Average over batches\n",
    "    train_losses.append(np.array(batch_losses).mean(axis=0))\n",
    "\n",
    "    print(f'Epoch {epoch:03d} | Loss >> {train_losses[-1][0]:.4f}')"
   ]
  },
  {
   "cell_type": "code",
   "execution_count": 14,
   "metadata": {},
   "outputs": [],
   "source": [
    "tpunk, _ = next(iter(test_loader))\n",
    "tpunk = tpunk[1]"
   ]
  },
  {
   "cell_type": "code",
   "execution_count": 15,
   "metadata": {},
   "outputs": [
    {
     "name": "stdout",
     "output_type": "stream",
     "text": [
      "torch.Size([3, 24, 24])\n"
     ]
    }
   ],
   "source": [
    "print(tpunk.shape)\n",
    "vpunk = Variable(tpunk)\n",
    "guess = model_vae(vpunk)"
   ]
  },
  {
   "cell_type": "code",
   "execution_count": 16,
   "metadata": {},
   "outputs": [
    {
     "data": {
      "text/plain": [
       "<matplotlib.image.AxesImage at 0x7f588978ba50>"
      ]
     },
     "execution_count": 16,
     "metadata": {},
     "output_type": "execute_result"
    },
    {
     "data": {
      "image/png": "[encoded data removed]",
      "text/plain": [
       "<Figure size 640x480 with 1 Axes>"
      ]
     },
     "metadata": {},
     "output_type": "display_data"
    }
   ],
   "source": [
    "plt.imshow(F.to_pil_image(guess))"
   ]
  },
  {
   "cell_type": "code",
   "execution_count": null,
   "metadata": {},
   "outputs": [],
   "source": []
  }
 ],
 "metadata": {
  "kernelspec": {
   "display_name": "venv",
   "language": "python",
   "name": "python3"
  },
  "language_info": {
   "codemirror_mode": {
    "name": "ipython",
    "version": 3
   },
   "file_extension": ".py",
   "mimetype": "text/x-python",
   "name": "python",
   "nbconvert_exporter": "python",
   "pygments_lexer": "ipython3",
   "version": "3.11.3"
  },
  "orig_nbformat": 4
 },
 "nbformat": 4,
 "nbformat_minor": 2
}
